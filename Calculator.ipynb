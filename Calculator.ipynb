{
  "cells": [
    {
      "cell_type": "code",
      "execution_count": null,
      "metadata": {
        "colab": {
          "background_save": true,
          "base_uri": "https://localhost:8080/"
        },
        "id": "3BUKe9_QpIwf",
        "outputId": "2c055206-556a-4319-de24-60d08261b10f"
      },
      "outputs": [
        {
          "name": "stdout",
          "output_type": "stream",
          "text": [
            "THE ANSWER IS:  96.0\n",
            "THE ANSWER IS:  532.0\n",
            "INPUT IS  INCORRECT\n",
            "THE ANSWER IS:  0.8571428571428571\n"
          ]
        }
      ],
      "source": [
        "# Task -2  CALCULATOR\n",
        "\n",
        "def add(num_1,num_2):\n",
        "  return num_1+num_2\n",
        "\n",
        "def subtract(num_1,num_2):\n",
        "  return num_1-num_2\n",
        "\n",
        "def multiply(num_1,num_2):\n",
        "  return num_1*num_2\n",
        "\n",
        "def divide(num_1,num_2):\n",
        "  if num_1!=0:\n",
        "    return num_1/num_2\n",
        "  else:\n",
        "    print(\"INFINITY\")\n",
        "\n",
        "def calculator():\n",
        "  while True:\n",
        "          num_1=float(input(\"\\n ENTER FIRST NUMBER or exit for quit: \"))\n",
        "          if num_1==\"exit\":\n",
        "             print(\"CALCULATOR STOPPED: \")\n",
        "             break\n",
        "          num_2=float(input(\"ENTER SECOND NUMBER: \"))\n",
        "\n",
        "          choice=(input(\"ENTER ANY OF THESE +,-,*,/: \"))\n",
        "\n",
        "          if choice==\"+\":\n",
        "             print(\"THE ANSWER IS: \",add(num_1,num_2))\n",
        "          elif choice==\"-\":\n",
        "             print(\"THE ANSWER IS: \",subtract(num_1,num_2))\n",
        "          elif choice==\"*\":\n",
        "             print(\"THE ANSWER IS: \",multiply(num_1,num_2))\n",
        "          elif choice==\"/\":\n",
        "             print(\"THE ANSWER IS: \",divide(num_1,num_2))\n",
        "          else:\n",
        "             print(\"INPUT IS  INCORRECT\")\n",
        "calculator()\n",
        "\n"
      ]
    }
  ],
  "metadata": {
    "colab": {
      "provenance": []
    },
    "kernelspec": {
      "display_name": "Python 3",
      "name": "python3"
    },
    "language_info": {
      "name": "python"
    }
  },
  "nbformat": 4,
  "nbformat_minor": 0
}