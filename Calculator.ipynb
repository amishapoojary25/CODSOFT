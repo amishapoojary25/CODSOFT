{
  "cells": [
    {
      "cell_type": "code",
      "execution_count": null,
      "metadata": {
        "colab": {
          "background_save": true,
          "base_uri": "https://localhost:8080/"
        },
        "id": "3BUKe9_QpIwf",
        "outputId": "3b5b4746-3ac1-4043-b69a-47c8dbf3aa6b"
      },
      "outputs": [
        {
          "output_type": "stream",
          "name": "stdout",
          "text": [
            "\n",
            " ENTER FIRST NUMBER or exit for quit: 12\n",
            "ENTER SECOND NUMBER: 14\n",
            "ENTER ANY OF THESE +,-,*,/: +\n",
            "THE ANSWER IS:  26.0\n",
            "\n",
            " ENTER FIRST NUMBER or exit for quit: 3\n",
            "ENTER SECOND NUMBER: 2\n",
            "ENTER ANY OF THESE +,-,*,/: _\n",
            "INPUT IS  INCORRECT\n",
            "\n",
            " ENTER FIRST NUMBER or exit for quit: 67\n",
            "ENTER SECOND NUMBER: 56\n",
            "ENTER ANY OF THESE +,-,*,/: *\n",
            "THE ANSWER IS:  3752.0\n",
            "\n",
            " ENTER FIRST NUMBER or exit for quit: 76\n",
            "ENTER SECOND NUMBER: 54\n",
            "ENTER ANY OF THESE +,-,*,/: +\n",
            "THE ANSWER IS:  130.0\n"
          ]
        }
      ],
      "source": [
        "# Task -2  CALCULATOR\n",
        "\n",
        "def add(num_1,num_2):\n",
        "  return num_1+num_2\n",
        "\n",
        "def subtract(num_1,num_2):\n",
        "  return num_1-num_2\n",
        "\n",
        "def multiply(num_1,num_2):\n",
        "  return num_1*num_2\n",
        "\n",
        "def divide(num_1,num_2):\n",
        "  if num_1!=0:\n",
        "    return num_1/num_2\n",
        "  else:\n",
        "    print(\"INFINITY\")\n",
        "\n",
        "def calculator():\n",
        "  while True:\n",
        "          num_1=float(input(\"\\n ENTER FIRST NUMBER or exit for quit: \"))\n",
        "          if num_1==\"exit\":\n",
        "             print(\"CALCULATOR STOPPED: \")\n",
        "             break\n",
        "          num_2=float(input(\"ENTER SECOND NUMBER: \"))\n",
        "\n",
        "          choice=(input(\"ENTER ANY OF THESE +,-,*,/: \"))\n",
        "\n",
        "          if choice==\"+\":\n",
        "             print(\"THE ANSWER IS: \",add(num_1,num_2))\n",
        "          elif choice==\"-\":\n",
        "             print(\"THE ANSWER IS: \",subtract(num_1,num_2))\n",
        "          elif choice==\"*\":\n",
        "             print(\"THE ANSWER IS: \",multiply(num_1,num_2))\n",
        "          elif choice==\"/\":\n",
        "             print(\"THE ANSWER IS: \",divide(num_1,num_2))\n",
        "          else:\n",
        "             print(\"INPUT IS  INCORRECT\")\n",
        "calculator()\n",
        "\n"
      ]
    }
  ],
  "metadata": {
    "colab": {
      "provenance": []
    },
    "kernelspec": {
      "display_name": "Python 3",
      "name": "python3"
    },
    "language_info": {
      "name": "python"
    }
  },
  "nbformat": 4,
  "nbformat_minor": 0
}