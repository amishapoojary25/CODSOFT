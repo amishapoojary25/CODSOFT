{
  "nbformat": 4,
  "nbformat_minor": 0,
  "metadata": {
    "colab": {
      "provenance": [],
      "authorship_tag": "ABX9TyNwiCse0TvW5FZtRL0b68pN",
      "include_colab_link": true
    },
    "kernelspec": {
      "name": "python3",
      "display_name": "Python 3"
    },
    "language_info": {
      "name": "python"
    }
  },
  "cells": [
    {
      "cell_type": "markdown",
      "metadata": {
        "id": "view-in-github",
        "colab_type": "text"
      },
      "source": [
        "<a href=\"https://colab.research.google.com/github/amishapoojary25/Codsoft/blob/main/password.ipynb\" target=\"_parent\"><img src=\"https://colab.research.google.com/assets/colab-badge.svg\" alt=\"Open In Colab\"/></a>"
      ]
    },
    {
      "cell_type": "code",
      "execution_count": null,
      "metadata": {
        "colab": {
          "base_uri": "https://localhost:8080/"
        },
        "id": "A8JKRB0XpvsT",
        "outputId": "ec88671a-7bf8-4b82-bf22-406ed2d7dd66"
      },
      "outputs": [
        {
          "output_type": "stream",
          "name": "stdout",
          "text": [
            "ENTER LENGTH OF THE PASSWORD: 7\n",
            "YOUR GENERATED PASSWORD IS:  billava@25 @bb@@5@\n"
          ]
        }
      ],
      "source": [
        "# Task-3 Password generator\n",
        "import random\n",
        "def generate_password():\n",
        "\n",
        "            password=['a','b','c','d','e','f','g','h','i','j','k','l','m','n','o','p','q','r','s','t','u','v','w','x','y','z','0','1','2','3','4','5','6','7','8','9']\n",
        "            user_prompt=int(input(\"ENTER LENGTH OF THE PASSWORD: \"))\n",
        "            password=\"billava@25 \"\n",
        "\n",
        "            for x in range(user_prompt):\n",
        "                    password=password+random.choice(password)\n",
        "\n",
        "            print(\"YOUR GENERATED PASSWORD IS: \",password)\n",
        "generate_password()"
      ]
    }
  ]
}