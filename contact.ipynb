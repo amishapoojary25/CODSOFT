{
  "nbformat": 4,
  "nbformat_minor": 0,
  "metadata": {
    "colab": {
      "provenance": [],
      "authorship_tag": "ABX9TyNTlBTB8ZEtHlw9jhqHR2c9",
      "include_colab_link": true
    },
    "kernelspec": {
      "name": "python3",
      "display_name": "Python 3"
    },
    "language_info": {
      "name": "python"
    }
  },
  "cells": [
    {
      "cell_type": "markdown",
      "metadata": {
        "id": "view-in-github",
        "colab_type": "text"
      },
      "source": [
        "<a href=\"https://colab.research.google.com/github/amishapoojary25/Codsoft/blob/main/contact.ipynb\" target=\"_parent\"><img src=\"https://colab.research.google.com/assets/colab-badge.svg\" alt=\"Open In Colab\"/></a>"
      ]
    },
    {
      "cell_type": "code",
      "execution_count": null,
      "metadata": {
        "id": "I67gFc6KrbIe",
        "colab": {
          "base_uri": "https://localhost:8080/"
        },
        "outputId": "8eddda16-bfd7-46dd-ef1c-266a1dc731e2"
      },
      "outputs": [
        {
          "output_type": "stream",
          "name": "stdout",
          "text": [
            "\n",
            "MENU:\n",
            "1. Add contact\n",
            "2. View contact List\n",
            "3. Search contact\n",
            "4. Update contact\n",
            "5. Delete contact\n",
            "6. Exit\n",
            "Enter your choice:1\n",
            "Enter name: amisha\n",
            "Enter phone number: 77689076\n",
            "Enter email: abc@gmail.com\n",
            "Enter address: bhvcvx nbj\n",
            "contact added successfully.\n",
            "\n",
            "MENU:\n",
            "1. Add contact\n",
            "2. View contact List\n",
            "3. Search contact\n",
            "4. Update contact\n",
            "5. Delete contact\n",
            "6. Exit\n",
            "Enter your choice:5\n",
            "Enter name of contact to delete: amisha\n",
            "contact deleted successfully.\n",
            "\n",
            "MENU:\n",
            "1. Add contact\n",
            "2. View contact List\n",
            "3. Search contact\n",
            "4. Update contact\n",
            "5. Delete contact\n",
            "6. Exit\n",
            "Enter your choice:6\n",
            "Exiting\n"
          ]
        }
      ],
      "source": [
        "# Task -5   Contact Book\n",
        "contacts = []\n",
        "\n",
        "def add_contact(name,phone,email,address):\n",
        "  contacts.append({\"name\": name, \"phone\":phone, \"email\": email, \"address\": address})\n",
        "  print(\"contact added successfully.\")\n",
        "\n",
        "def view_contacts():\n",
        "  if contacts:\n",
        "    for contact in contacts:\n",
        "      print(f\"Name: {contact['name']}, phone: {contact['phone']}\")\n",
        "  else:\n",
        "    print(\"No contacts available.\")\n",
        "\n",
        "def search_contact(keyword):\n",
        "  found = False\n",
        "  for contact in contacts:\n",
        "    if keyword.lower() in contact['name'].lower() or keyword in contact['phone']:\n",
        "      print(f\"Name: {contact['name']}, phone: {contact['phone']}\")\n",
        "      found = True\n",
        "  if not found:\n",
        "    print(\"contact not found.\")\n",
        "\n",
        "def update_contact(name,phone,email,address):\n",
        "  for contact in contacts:\n",
        "    if contact['name'] == name:\n",
        "      contact.update({\"phone\": phone, \"email\": email, \"address\": address})\n",
        "      print(\"contact updated successfully.\")\n",
        "      return\n",
        "    print(\"contact not found.\")\n",
        "\n",
        "def delete_contact(name):\n",
        "  for contact in contacts:\n",
        "    if contact['name'] == name:\n",
        "      contacts.remove(contact)\n",
        "      print(\"contact deleted successfully.\")\n",
        "      return\n",
        "    print(\"contact not found.\")\n",
        "\n",
        "while True:\n",
        "  print(\"\\nMENU:\")\n",
        "  print(\"1. Add contact\")\n",
        "  print(\"2. View contact List\")\n",
        "  print(\"3. Search contact\")\n",
        "  print(\"4. Update contact\")\n",
        "  print(\"5. Delete contact\")\n",
        "  print(\"6. Exit\")\n",
        "\n",
        "  choice = input(\"Enter your choice:\")\n",
        "\n",
        "  if choice == \"1\":\n",
        "    name = input(\"Enter name: \")\n",
        "    phone = input(\"Enter phone number: \")\n",
        "    email = input(\"Enter email: \")\n",
        "    address = input(\"Enter address: \")\n",
        "    add_contact(name, phone, email, address)\n",
        "\n",
        "  elif choice == \"2\":\n",
        "    print(\"contact List:\")\n",
        "    view_contacts()\n",
        "\n",
        "  elif choice == \"3\":\n",
        "    keyword = input(\"Enter name or phone number to search: \")\n",
        "    search_contact(keyword)\n",
        "\n",
        "  elif choice == \"4\":\n",
        "    name = input(\"Enter name of contact to update: \")\n",
        "    phone = input(\"Enter new phone number: \")\n",
        "    email = input(\"Enter new email: \")\n",
        "    address = input(\"Enter new address: \")\n",
        "    update_contact(name, phone, email, address)\n",
        "\n",
        "  elif choice == \"5\":\n",
        "    name = input(\"Enter name of contact to delete: \")\n",
        "    delete_contact(name)\n",
        "\n",
        "  elif choice == \"6\":\n",
        "    print(\"Exiting\")\n",
        "    break\n",
        "\n",
        "  else:\n",
        "    print(\"Invalid choice, please enter a number between 1 and 6.\")"
      ]
    }
  ]
}