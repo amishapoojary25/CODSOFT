{
  "nbformat": 4,
  "nbformat_minor": 0,
  "metadata": {
    "colab": {
      "provenance": [],
      "authorship_tag": "ABX9TyMuOXxGjv/NNvGNod8oEJSk",
      "include_colab_link": true
    },
    "kernelspec": {
      "name": "python3",
      "display_name": "Python 3"
    },
    "language_info": {
      "name": "python"
    }
  },
  "cells": [
    {
      "cell_type": "markdown",
      "metadata": {
        "id": "view-in-github",
        "colab_type": "text"
      },
      "source": [
        "<a href=\"https://colab.research.google.com/github/amishapoojary25/Codsoft/blob/main/paper.ipynb\" target=\"_parent\"><img src=\"https://colab.research.google.com/assets/colab-badge.svg\" alt=\"Open In Colab\"/></a>"
      ]
    },
    {
      "cell_type": "code",
      "execution_count": null,
      "metadata": {
        "colab": {
          "base_uri": "https://localhost:8080/"
        },
        "id": "SPKeS5PhqwI-",
        "outputId": "c54adcbf-b403-4168-a2e1-7a601baa1797"
      },
      "outputs": [
        {
          "output_type": "stream",
          "name": "stdout",
          "text": [
            "\n",
            "WELCOME TO THE ROCK,PAPER,SCISSORS GAME:\n",
            "CHOICES: ROCK, PAPER, SCIESSOR\n",
            "\n",
            "ENTER YOUR CHOICE: rock\n",
            "Try again\n",
            "ENTER YOUR CHOICE: paper\n",
            "congratulations you won: \n",
            "YOU WON THE GAME BY GUESSING THE CORRECT OUTPUT {user_choice} and in {attempts+1}attempts\n",
            "\n",
            "if you want to play again, enter 'yes',else type 'exit' to quit: yes\n",
            "\n",
            "WELCOME TO THE ROCK,PAPER,SCISSORS GAME:\n",
            "CHOICES: ROCK, PAPER, SCIESSOR\n",
            "\n",
            "ENTER YOUR CHOICE: scissors\n",
            "Try again\n",
            "ENTER YOUR CHOICE: paper\n",
            "congratulations you won: \n",
            "YOU WON THE GAME BY GUESSING THE CORRECT OUTPUT {user_choice} and in {attempts+1}attempts\n",
            "\n",
            "if you want to play again, enter 'yes',else type 'exit' to quit: yes\n",
            "\n",
            "WELCOME TO THE ROCK,PAPER,SCISSORS GAME:\n",
            "CHOICES: ROCK, PAPER, SCIESSOR\n",
            "\n",
            "ENTER YOUR CHOICE: exit\n",
            "GAME ENDED\n"
          ]
        }
      ],
      "source": [
        "# task-4 Rock-paper-Scissors Game\n",
        "\n",
        "import random\n",
        "def guessing_game():\n",
        "   print(\"\\nWELCOME TO THE ROCK,PAPER,SCISSORS GAME:\")\n",
        "   print(\"CHOICES: ROCK, PAPER, SCIESSOR\\n\")\n",
        "\n",
        "   items = [\"paper\", \"rock\",\"sciessor\"]\n",
        "\n",
        "   rand=random.choice(items)\n",
        "   attempts=0\n",
        "   while True:\n",
        "      user_choice=input(\"ENTER YOUR CHOICE: \").lower()\n",
        "      if user_choice==\"exit\":\n",
        "         print(\"GAME ENDED\")\n",
        "         break\n",
        "\n",
        "      elif user_choice == rand:\n",
        "         print(\"congratulations you won: \")\n",
        "         print(\"YOU WON THE GAME BY GUESSING THE CORRECT OUTPUT {user_choice} and in {attempts+1}attempts\\n\")\n",
        "         play_again = input(\"if you want to play again, enter 'yes',else type 'exit' to quit: \").lower()\n",
        "\n",
        "         if play_again != 'yes':\n",
        "            print(\"THANKS FOR PLAYING!\")\n",
        "         else:\n",
        "            guessing_game()\n",
        "\n",
        "      else:\n",
        "         print(\"Try again\")\n",
        "         attempts=attempts+1\n",
        "\n",
        "\n",
        "guessing_game()\n"
      ]
    }
  ]
}